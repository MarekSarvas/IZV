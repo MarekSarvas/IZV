{
 "cells": [
  {
   "cell_type": "code",
   "execution_count": 1,
   "metadata": {},
   "outputs": [],
   "source": [
    "import numpy as np, pandas as pd\n",
    "import seaborn as sns\n",
    "import scipy.stats as st\n",
    "import matplotlib.pyplot as plt"
   ]
  },
  {
   "cell_type": "code",
   "execution_count": 2,
   "metadata": {},
   "outputs": [
    {
     "output_type": "execute_result",
     "data": {
      "text/plain": [
       "                  p1 p36   p37         p2a weekday(p2a)   p2b p6  p7  p8  p9  \\\n",
       "0       002100160001   4        2016-01-01            5  0055  1   1   0   2   \n",
       "1       002100160002   4        2016-01-01            5  0130  1   3   0   2   \n",
       "2       002100160003   5        2016-01-01            5  0100  1   2   0   2   \n",
       "3       002100160004   6        2016-01-01            5  0120  9   0   0   2   \n",
       "4       002100160005   6        2016-01-01            5  2560  2   0   0   2   \n",
       "...              ...  ..   ...         ...          ...   ... ..  ..  ..  ..   \n",
       "487156  190906200498   6        2020-09-29            2  2560  2   0   0   2   \n",
       "487157  190906200499   0     6  2020-09-29            2  1940  1   2   0   2   \n",
       "487158  190906200500   3  2114  2020-09-30            3  2045  1   4   0   2   \n",
       "487159  190906200501   0     6  2020-10-01            4  0420  3   0   4   2   \n",
       "487160  190906200502   6        2020-10-01            4  2560  2   0   0   2   \n",
       "\n",
       "        ...     l        n  o                       p       q       r       s  \\\n",
       "0       ...         711403     Souhlasnýsesměremúseku  Pomalý  554782  451622   \n",
       "1       ...                                                                     \n",
       "2       ...                                                                     \n",
       "3       ...                                                                     \n",
       "4       ...                                                                     \n",
       "...     ...   ...      ... ..                     ...     ...     ...     ...   \n",
       "487156  ...        3438492     Souhlasnýsesměremúseku  Pomalý  560294           \n",
       "487157  ...    D6  1671277     Souhlasnýsesměremúseku  Pomalý  560286           \n",
       "487158  ...  2114  1669033         Opačnýkesměruúseku  Pomalý  554642           \n",
       "487159  ...    D6  3513947     Souhlasnýsesměremúseku  Pomalý  560294           \n",
       "487160  ...        3704381     Souhlasnýsesměremúseku  Pomalý  560383           \n",
       "\n",
       "                         t  p5a  region  \n",
       "0       GN_V0.1UIR-ADR_410    1     PHA  \n",
       "1                             1     PHA  \n",
       "2                             1     PHA  \n",
       "3                             1     PHA  \n",
       "4                             1     PHA  \n",
       "...                    ...  ...     ...  \n",
       "487156  GN_V0.1UIR-ADR_410    1     KVK  \n",
       "487157  GN_V0.1UIR-ADR_410    2     KVK  \n",
       "487158  GN_V0.1UIR-ADR_410    2     KVK  \n",
       "487159  GN_V0.1UIR-ADR_410    2     KVK  \n",
       "487160  GN_V0.1UIR-ADR_410    1     KVK  \n",
       "\n",
       "[487161 rows x 65 columns]"
      ],
      "text/html": "<div>\n<style scoped>\n    .dataframe tbody tr th:only-of-type {\n        vertical-align: middle;\n    }\n\n    .dataframe tbody tr th {\n        vertical-align: top;\n    }\n\n    .dataframe thead th {\n        text-align: right;\n    }\n</style>\n<table border=\"1\" class=\"dataframe\">\n  <thead>\n    <tr style=\"text-align: right;\">\n      <th></th>\n      <th>p1</th>\n      <th>p36</th>\n      <th>p37</th>\n      <th>p2a</th>\n      <th>weekday(p2a)</th>\n      <th>p2b</th>\n      <th>p6</th>\n      <th>p7</th>\n      <th>p8</th>\n      <th>p9</th>\n      <th>...</th>\n      <th>l</th>\n      <th>n</th>\n      <th>o</th>\n      <th>p</th>\n      <th>q</th>\n      <th>r</th>\n      <th>s</th>\n      <th>t</th>\n      <th>p5a</th>\n      <th>region</th>\n    </tr>\n  </thead>\n  <tbody>\n    <tr>\n      <th>0</th>\n      <td>002100160001</td>\n      <td>4</td>\n      <td></td>\n      <td>2016-01-01</td>\n      <td>5</td>\n      <td>0055</td>\n      <td>1</td>\n      <td>1</td>\n      <td>0</td>\n      <td>2</td>\n      <td>...</td>\n      <td></td>\n      <td>711403</td>\n      <td></td>\n      <td>Souhlasnýsesměremúseku</td>\n      <td>Pomalý</td>\n      <td>554782</td>\n      <td>451622</td>\n      <td>GN_V0.1UIR-ADR_410</td>\n      <td>1</td>\n      <td>PHA</td>\n    </tr>\n    <tr>\n      <th>1</th>\n      <td>002100160002</td>\n      <td>4</td>\n      <td></td>\n      <td>2016-01-01</td>\n      <td>5</td>\n      <td>0130</td>\n      <td>1</td>\n      <td>3</td>\n      <td>0</td>\n      <td>2</td>\n      <td>...</td>\n      <td></td>\n      <td></td>\n      <td></td>\n      <td></td>\n      <td></td>\n      <td></td>\n      <td></td>\n      <td></td>\n      <td>1</td>\n      <td>PHA</td>\n    </tr>\n    <tr>\n      <th>2</th>\n      <td>002100160003</td>\n      <td>5</td>\n      <td></td>\n      <td>2016-01-01</td>\n      <td>5</td>\n      <td>0100</td>\n      <td>1</td>\n      <td>2</td>\n      <td>0</td>\n      <td>2</td>\n      <td>...</td>\n      <td></td>\n      <td></td>\n      <td></td>\n      <td></td>\n      <td></td>\n      <td></td>\n      <td></td>\n      <td></td>\n      <td>1</td>\n      <td>PHA</td>\n    </tr>\n    <tr>\n      <th>3</th>\n      <td>002100160004</td>\n      <td>6</td>\n      <td></td>\n      <td>2016-01-01</td>\n      <td>5</td>\n      <td>0120</td>\n      <td>9</td>\n      <td>0</td>\n      <td>0</td>\n      <td>2</td>\n      <td>...</td>\n      <td></td>\n      <td></td>\n      <td></td>\n      <td></td>\n      <td></td>\n      <td></td>\n      <td></td>\n      <td></td>\n      <td>1</td>\n      <td>PHA</td>\n    </tr>\n    <tr>\n      <th>4</th>\n      <td>002100160005</td>\n      <td>6</td>\n      <td></td>\n      <td>2016-01-01</td>\n      <td>5</td>\n      <td>2560</td>\n      <td>2</td>\n      <td>0</td>\n      <td>0</td>\n      <td>2</td>\n      <td>...</td>\n      <td></td>\n      <td></td>\n      <td></td>\n      <td></td>\n      <td></td>\n      <td></td>\n      <td></td>\n      <td></td>\n      <td>1</td>\n      <td>PHA</td>\n    </tr>\n    <tr>\n      <th>...</th>\n      <td>...</td>\n      <td>...</td>\n      <td>...</td>\n      <td>...</td>\n      <td>...</td>\n      <td>...</td>\n      <td>...</td>\n      <td>...</td>\n      <td>...</td>\n      <td>...</td>\n      <td>...</td>\n      <td>...</td>\n      <td>...</td>\n      <td>...</td>\n      <td>...</td>\n      <td>...</td>\n      <td>...</td>\n      <td>...</td>\n      <td>...</td>\n      <td>...</td>\n      <td>...</td>\n    </tr>\n    <tr>\n      <th>487156</th>\n      <td>190906200498</td>\n      <td>6</td>\n      <td></td>\n      <td>2020-09-29</td>\n      <td>2</td>\n      <td>2560</td>\n      <td>2</td>\n      <td>0</td>\n      <td>0</td>\n      <td>2</td>\n      <td>...</td>\n      <td></td>\n      <td>3438492</td>\n      <td></td>\n      <td>Souhlasnýsesměremúseku</td>\n      <td>Pomalý</td>\n      <td>560294</td>\n      <td></td>\n      <td>GN_V0.1UIR-ADR_410</td>\n      <td>1</td>\n      <td>KVK</td>\n    </tr>\n    <tr>\n      <th>487157</th>\n      <td>190906200499</td>\n      <td>0</td>\n      <td>6</td>\n      <td>2020-09-29</td>\n      <td>2</td>\n      <td>1940</td>\n      <td>1</td>\n      <td>2</td>\n      <td>0</td>\n      <td>2</td>\n      <td>...</td>\n      <td>D6</td>\n      <td>1671277</td>\n      <td></td>\n      <td>Souhlasnýsesměremúseku</td>\n      <td>Pomalý</td>\n      <td>560286</td>\n      <td></td>\n      <td>GN_V0.1UIR-ADR_410</td>\n      <td>2</td>\n      <td>KVK</td>\n    </tr>\n    <tr>\n      <th>487158</th>\n      <td>190906200500</td>\n      <td>3</td>\n      <td>2114</td>\n      <td>2020-09-30</td>\n      <td>3</td>\n      <td>2045</td>\n      <td>1</td>\n      <td>4</td>\n      <td>0</td>\n      <td>2</td>\n      <td>...</td>\n      <td>2114</td>\n      <td>1669033</td>\n      <td></td>\n      <td>Opačnýkesměruúseku</td>\n      <td>Pomalý</td>\n      <td>554642</td>\n      <td></td>\n      <td>GN_V0.1UIR-ADR_410</td>\n      <td>2</td>\n      <td>KVK</td>\n    </tr>\n    <tr>\n      <th>487159</th>\n      <td>190906200501</td>\n      <td>0</td>\n      <td>6</td>\n      <td>2020-10-01</td>\n      <td>4</td>\n      <td>0420</td>\n      <td>3</td>\n      <td>0</td>\n      <td>4</td>\n      <td>2</td>\n      <td>...</td>\n      <td>D6</td>\n      <td>3513947</td>\n      <td></td>\n      <td>Souhlasnýsesměremúseku</td>\n      <td>Pomalý</td>\n      <td>560294</td>\n      <td></td>\n      <td>GN_V0.1UIR-ADR_410</td>\n      <td>2</td>\n      <td>KVK</td>\n    </tr>\n    <tr>\n      <th>487160</th>\n      <td>190906200502</td>\n      <td>6</td>\n      <td></td>\n      <td>2020-10-01</td>\n      <td>4</td>\n      <td>2560</td>\n      <td>2</td>\n      <td>0</td>\n      <td>0</td>\n      <td>2</td>\n      <td>...</td>\n      <td></td>\n      <td>3704381</td>\n      <td></td>\n      <td>Souhlasnýsesměremúseku</td>\n      <td>Pomalý</td>\n      <td>560383</td>\n      <td></td>\n      <td>GN_V0.1UIR-ADR_410</td>\n      <td>1</td>\n      <td>KVK</td>\n    </tr>\n  </tbody>\n</table>\n<p>487161 rows × 65 columns</p>\n</div>"
     },
     "metadata": {},
     "execution_count": 2
    }
   ],
   "source": [
    "df = pd.read_pickle(\"accidents.pkl.gz\")\n",
    "df"
   ]
  },
  {
   "cell_type": "code",
   "execution_count": 3,
   "metadata": {},
   "outputs": [],
   "source": [
    "#(df.p13a + df.p13b).max()"
   ]
  },
  {
   "cell_type": "code",
   "execution_count": 4,
   "metadata": {},
   "outputs": [
    {
     "output_type": "execute_result",
     "data": {
      "text/plain": [
       "        p11  p13c  p13b  p13a  alcohol  heavily_injured\n",
       "0         2     0     0     0    False            False\n",
       "1         2     0     0     0    False            False\n",
       "2         2     0     0     0    False            False\n",
       "3         9     0     0     0     True            False\n",
       "4         0     0     0     0    False            False\n",
       "...     ...   ...   ...   ...      ...              ...\n",
       "487156    0     0     0     0    False            False\n",
       "487157    2     0     0     0    False            False\n",
       "487158    0     0     0     0    False            False\n",
       "487159    2     0     0     0    False            False\n",
       "487160    0     0     0     0    False            False\n",
       "\n",
       "[487161 rows x 6 columns]"
      ],
      "text/html": "<div>\n<style scoped>\n    .dataframe tbody tr th:only-of-type {\n        vertical-align: middle;\n    }\n\n    .dataframe tbody tr th {\n        vertical-align: top;\n    }\n\n    .dataframe thead th {\n        text-align: right;\n    }\n</style>\n<table border=\"1\" class=\"dataframe\">\n  <thead>\n    <tr style=\"text-align: right;\">\n      <th></th>\n      <th>p11</th>\n      <th>p13c</th>\n      <th>p13b</th>\n      <th>p13a</th>\n      <th>alcohol</th>\n      <th>heavily_injured</th>\n    </tr>\n  </thead>\n  <tbody>\n    <tr>\n      <th>0</th>\n      <td>2</td>\n      <td>0</td>\n      <td>0</td>\n      <td>0</td>\n      <td>False</td>\n      <td>False</td>\n    </tr>\n    <tr>\n      <th>1</th>\n      <td>2</td>\n      <td>0</td>\n      <td>0</td>\n      <td>0</td>\n      <td>False</td>\n      <td>False</td>\n    </tr>\n    <tr>\n      <th>2</th>\n      <td>2</td>\n      <td>0</td>\n      <td>0</td>\n      <td>0</td>\n      <td>False</td>\n      <td>False</td>\n    </tr>\n    <tr>\n      <th>3</th>\n      <td>9</td>\n      <td>0</td>\n      <td>0</td>\n      <td>0</td>\n      <td>True</td>\n      <td>False</td>\n    </tr>\n    <tr>\n      <th>4</th>\n      <td>0</td>\n      <td>0</td>\n      <td>0</td>\n      <td>0</td>\n      <td>False</td>\n      <td>False</td>\n    </tr>\n    <tr>\n      <th>...</th>\n      <td>...</td>\n      <td>...</td>\n      <td>...</td>\n      <td>...</td>\n      <td>...</td>\n      <td>...</td>\n    </tr>\n    <tr>\n      <th>487156</th>\n      <td>0</td>\n      <td>0</td>\n      <td>0</td>\n      <td>0</td>\n      <td>False</td>\n      <td>False</td>\n    </tr>\n    <tr>\n      <th>487157</th>\n      <td>2</td>\n      <td>0</td>\n      <td>0</td>\n      <td>0</td>\n      <td>False</td>\n      <td>False</td>\n    </tr>\n    <tr>\n      <th>487158</th>\n      <td>0</td>\n      <td>0</td>\n      <td>0</td>\n      <td>0</td>\n      <td>False</td>\n      <td>False</td>\n    </tr>\n    <tr>\n      <th>487159</th>\n      <td>2</td>\n      <td>0</td>\n      <td>0</td>\n      <td>0</td>\n      <td>False</td>\n      <td>False</td>\n    </tr>\n    <tr>\n      <th>487160</th>\n      <td>0</td>\n      <td>0</td>\n      <td>0</td>\n      <td>0</td>\n      <td>False</td>\n      <td>False</td>\n    </tr>\n  </tbody>\n</table>\n<p>487161 rows × 6 columns</p>\n</div>"
     },
     "metadata": {},
     "execution_count": 4
    }
   ],
   "source": [
    "df_chi = pd.DataFrame({'p11':df['p11'], 'p13c':df['p13c'], 'p13b':df['p13b'],'p13a':df['p13a'], 'alcohol':(df['p11'] >=7), 'heavily_injured':(df['p13b']+df['p13a'] > 0)}).dropna()\n",
    "df_chi\n"
   ]
  },
  {
   "cell_type": "code",
   "execution_count": 5,
   "metadata": {},
   "outputs": [
    {
     "output_type": "execute_result",
     "data": {
      "text/plain": [
       "        p11  p13c  p13b  p13a  alcohol  heavily_injured\n",
       "0         2     0     0     0    False            False\n",
       "1         2     0     0     0    False            False\n",
       "2         2     0     0     0    False            False\n",
       "3         9     0     0     0     True            False\n",
       "4         0     0     0     0    False            False\n",
       "...     ...   ...   ...   ...      ...              ...\n",
       "487156    0     0     0     0    False            False\n",
       "487157    2     0     0     0    False            False\n",
       "487158    0     0     0     0    False            False\n",
       "487159    2     0     0     0    False            False\n",
       "487160    0     0     0     0    False            False\n",
       "\n",
       "[485683 rows x 6 columns]"
      ],
      "text/html": "<div>\n<style scoped>\n    .dataframe tbody tr th:only-of-type {\n        vertical-align: middle;\n    }\n\n    .dataframe tbody tr th {\n        vertical-align: top;\n    }\n\n    .dataframe thead th {\n        text-align: right;\n    }\n</style>\n<table border=\"1\" class=\"dataframe\">\n  <thead>\n    <tr style=\"text-align: right;\">\n      <th></th>\n      <th>p11</th>\n      <th>p13c</th>\n      <th>p13b</th>\n      <th>p13a</th>\n      <th>alcohol</th>\n      <th>heavily_injured</th>\n    </tr>\n  </thead>\n  <tbody>\n    <tr>\n      <th>0</th>\n      <td>2</td>\n      <td>0</td>\n      <td>0</td>\n      <td>0</td>\n      <td>False</td>\n      <td>False</td>\n    </tr>\n    <tr>\n      <th>1</th>\n      <td>2</td>\n      <td>0</td>\n      <td>0</td>\n      <td>0</td>\n      <td>False</td>\n      <td>False</td>\n    </tr>\n    <tr>\n      <th>2</th>\n      <td>2</td>\n      <td>0</td>\n      <td>0</td>\n      <td>0</td>\n      <td>False</td>\n      <td>False</td>\n    </tr>\n    <tr>\n      <th>3</th>\n      <td>9</td>\n      <td>0</td>\n      <td>0</td>\n      <td>0</td>\n      <td>True</td>\n      <td>False</td>\n    </tr>\n    <tr>\n      <th>4</th>\n      <td>0</td>\n      <td>0</td>\n      <td>0</td>\n      <td>0</td>\n      <td>False</td>\n      <td>False</td>\n    </tr>\n    <tr>\n      <th>...</th>\n      <td>...</td>\n      <td>...</td>\n      <td>...</td>\n      <td>...</td>\n      <td>...</td>\n      <td>...</td>\n    </tr>\n    <tr>\n      <th>487156</th>\n      <td>0</td>\n      <td>0</td>\n      <td>0</td>\n      <td>0</td>\n      <td>False</td>\n      <td>False</td>\n    </tr>\n    <tr>\n      <th>487157</th>\n      <td>2</td>\n      <td>0</td>\n      <td>0</td>\n      <td>0</td>\n      <td>False</td>\n      <td>False</td>\n    </tr>\n    <tr>\n      <th>487158</th>\n      <td>0</td>\n      <td>0</td>\n      <td>0</td>\n      <td>0</td>\n      <td>False</td>\n      <td>False</td>\n    </tr>\n    <tr>\n      <th>487159</th>\n      <td>2</td>\n      <td>0</td>\n      <td>0</td>\n      <td>0</td>\n      <td>False</td>\n      <td>False</td>\n    </tr>\n    <tr>\n      <th>487160</th>\n      <td>0</td>\n      <td>0</td>\n      <td>0</td>\n      <td>0</td>\n      <td>False</td>\n      <td>False</td>\n    </tr>\n  </tbody>\n</table>\n<p>485683 rows × 6 columns</p>\n</div>"
     },
     "metadata": {},
     "execution_count": 5
    }
   ],
   "source": [
    "df_chi = df_chi.drop(df_chi[(df_chi.p11 == 4) | (df_chi.p11 == 5) | (df_chi.p11 == 0)].index)\n",
    "df_chi"
   ]
  },
  {
   "cell_type": "code",
   "execution_count": 6,
   "metadata": {},
   "outputs": [
    {
     "output_type": "execute_result",
     "data": {
      "text/plain": [
       "heavily_injured   False  True \n",
       "alcohol                       \n",
       "False            457528  10777\n",
       "True              16492    886"
      ],
      "text/html": "<div>\n<style scoped>\n    .dataframe tbody tr th:only-of-type {\n        vertical-align: middle;\n    }\n\n    .dataframe tbody tr th {\n        vertical-align: top;\n    }\n\n    .dataframe thead th {\n        text-align: right;\n    }\n</style>\n<table border=\"1\" class=\"dataframe\">\n  <thead>\n    <tr style=\"text-align: right;\">\n      <th>heavily_injured</th>\n      <th>False</th>\n      <th>True</th>\n    </tr>\n    <tr>\n      <th>alcohol</th>\n      <th></th>\n      <th></th>\n    </tr>\n  </thead>\n  <tbody>\n    <tr>\n      <th>False</th>\n      <td>457528</td>\n      <td>10777</td>\n    </tr>\n    <tr>\n      <th>True</th>\n      <td>16492</td>\n      <td>886</td>\n    </tr>\n  </tbody>\n</table>\n</div>"
     },
     "metadata": {},
     "execution_count": 6
    }
   ],
   "source": [
    "ct = pd.crosstab( df_chi['alcohol'], df_chi['heavily_injured'])\n",
    "ct"
   ]
  },
  {
   "cell_type": "code",
   "execution_count": 7,
   "metadata": {},
   "outputs": [
    {
     "output_type": "display_data",
     "data": {
      "text/plain": "'xi2=3690.0562779843917'"
     },
     "metadata": {}
    }
   ],
   "source": [
    "values = ct.values\n",
    "sum_all = float(values.sum()) # suma vsech hodnot\n",
    "sum_c0, sum_c1 = ct[:][0].sum(), ct[:][1].sum() # soucty sloupcu\n",
    "sum_r0, sum_r1 = ct[0][:].sum(), ct[1][:].sum() # soucty radku\n",
    "\n",
    "E = np.array([[(sum_r0 * sum_c0), (sum_r0 * sum_c1 )],\n",
    "     [(sum_r1 * sum_c0), (sum_r1 * sum_c1)]]) \n",
    "\n",
    "E = E / sum_all\n",
    "\n",
    "xi2 = np.sum(((np.abs(values - E) - 0.5 )**2) / E)\n",
    "display(f\"xi2={xi2}\")"
   ]
  },
  {
   "cell_type": "code",
   "execution_count": 8,
   "metadata": {},
   "outputs": [
    {
     "output_type": "execute_result",
     "data": {
      "text/plain": [
       "(558.1749514234125,\n",
       " 2.0971505700338304e-123,\n",
       " 1,\n",
       " array([[4.57059308e+05, 1.12456916e+04],\n",
       "        [1.69606916e+04, 4.17308438e+02]]))"
      ]
     },
     "metadata": {},
     "execution_count": 8
    }
   ],
   "source": [
    "st.chi2_contingency(ct)"
   ]
  },
  {
   "cell_type": "code",
   "execution_count": null,
   "metadata": {},
   "outputs": [],
   "source": []
  }
 ],
 "metadata": {
  "kernelspec": {
   "display_name": "Python 3.8.2 64-bit ('izv2': conda)",
   "language": "python",
   "name": "python38264bitizv2conda65aba33644ce43f28bb5d6cc0029efb5"
  },
  "language_info": {
   "codemirror_mode": {
    "name": "ipython",
    "version": 3
   },
   "file_extension": ".py",
   "mimetype": "text/x-python",
   "name": "python",
   "nbconvert_exporter": "python",
   "pygments_lexer": "ipython3",
   "version": "3.8.2-final"
  }
 },
 "nbformat": 4,
 "nbformat_minor": 1
}